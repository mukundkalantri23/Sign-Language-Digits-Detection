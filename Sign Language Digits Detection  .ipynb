{
 "cells": [
  {
   "cell_type": "markdown",
   "metadata": {},
   "source": [
    "# Sign Language Digits Recognition\n",
    "Building a neural network to detect digits made by sign language using tensorflow."
   ]
  },
  {
   "cell_type": "code",
   "execution_count": 1,
   "metadata": {},
   "outputs": [],
   "source": [
    "# Clone the dataset from the original github repository. Run only once. Uncomment the line of code below.\n",
    "# !git clone ‘https://github.com/ardamavi/Sign-Language-Digits-Dataset.git'"
   ]
  },
  {
   "cell_type": "code",
   "execution_count": 2,
   "metadata": {},
   "outputs": [],
   "source": [
    "import os\n",
    "import numpy as np\n",
    "from PIL import Image\n",
    "import matplotlib.pyplot as plt\n",
    "import tensorflow as tf\n",
    "from tensorflow.python.framework import ops\n",
    "from tensorflow.contrib import layers\n",
    "from sklearn.model_selection import train_test_split"
   ]
  },
  {
   "cell_type": "code",
   "execution_count": 3,
   "metadata": {},
   "outputs": [],
   "source": [
    "dir = \"Sign-Language-Digits-Dataset/Dataset\"\n",
    "\n",
    "def load_my_dataset(dir):\n",
    "    '''\n",
    "    loads dataset as input matrix, output vector and no of classes\n",
    "    \n",
    "    Arguments:\n",
    "    dir -- path of the directory where the dataset is stored\n",
    "    \n",
    "    Returns: \n",
    "    images -- input matrix of dimension (no of examples, 64, 64, 3)\n",
    "    label -- output vector of length (no of examples)\n",
    "    no_classes -- number of classes in which the dataset is divided\n",
    "    '''\n",
    "    \n",
    "    images = []\n",
    "    label = []\n",
    "    for foldername in os.listdir(dir):\n",
    "        no_classes = len(os.listdir(dir))\n",
    "        for filename in os.listdir(dir + '/' + foldername):\n",
    "            img = Image.open(dir + '/' + foldername + '/' + filename)\n",
    "            img.thumbnail((64,64), Image.ANTIALIAS)\n",
    "            img = np.asarray(img)\n",
    "            images.append(img)\n",
    "            label.append(foldername)\n",
    "    images = np.asarray(images)\n",
    "    return images,label,no_classes"
   ]
  },
  {
   "cell_type": "code",
   "execution_count": 4,
   "metadata": {
    "scrolled": true
   },
   "outputs": [],
   "source": [
    "X,Y,C = load_my_dataset(dir)"
   ]
  },
  {
   "cell_type": "code",
   "execution_count": 5,
   "metadata": {},
   "outputs": [
    {
     "name": "stdout",
     "output_type": "stream",
     "text": [
      "y = 0\n"
     ]
    },
    {
     "data": {
      "image/png": "[encoded data removed]",
      "text/plain": [
       "<Figure size 432x288 with 1 Axes>"
      ]
     },
     "metadata": {},
     "output_type": "display_data"
    }
   ],
   "source": [
    "# dataset example\n",
    "index = 2\n",
    "plt.imshow(X[index])#, cmap = 'gray')\n",
    "print (\"y = \" + str(Y[index]))"
   ]
  },
  {
   "cell_type": "code",
   "execution_count": 6,
   "metadata": {},
   "outputs": [],
   "source": [
    "def one_hot_matrix(C, labels):\n",
    "    '''\n",
    "    Creates a matrix where the i-th row corresponds to the ith class number and the jth column corresponds to the \n",
    "    jth training example. So if example j had a label i. Then entry (i,j) will be 1. \n",
    "                     \n",
    "    Arguments:\n",
    "    C -- number of classes, the depth of the one hot dimension\n",
    "    labels -- vector containing the labels \n",
    "    \n",
    "    Returns: \n",
    "    one_hot -- one hot matrix\n",
    "    '''\n",
    "    \n",
    "    C = tf.constant(C, name = 'C')\n",
    "    one_hot_matrix = tf.one_hot(labels, C)#, axis = 0)\n",
    "    sess = tf.Session()\n",
    "    one_hot = sess.run(one_hot_matrix)\n",
    "    sess.close()\n",
    "    return one_hot"
   ]
  },
  {
   "cell_type": "code",
   "execution_count": 7,
   "metadata": {},
   "outputs": [],
   "source": [
    "def convert_and_split(X, Y, no_classes):\n",
    "    '''\n",
    "    converts dataset into training and testing matrices afterflattening and normalizing input matrix and \n",
    "    converting output vector into a one hot matrix.\n",
    "    \n",
    "    Arguments:\n",
    "    X -- input matrix of dimension (no of examples, 64, 64, 3)\n",
    "    Y -- output vector of length (no of examples)\n",
    "    \n",
    "    Returns: \n",
    "    x_train -- input training matrix of dimensions (12288, 1546)\n",
    "    x_test -- input test matrix of dimensions (10, 1546)\n",
    "    y_train -- output training matrix of dimensions (12288, 516)\n",
    "    y_test -- output test matrix of dimensions (10, 516)\n",
    "    '''\n",
    "    \n",
    "    X = X.astype(np.float32)\n",
    "    flattened_x = X.reshape(X.shape[0], -1)\n",
    "    label = one_hot_matrix(no_classes, np.array(Y))\n",
    "    flattened_x = flattened_x / 255.\n",
    "    x_train, x_test, y_train, y_test = train_test_split(flattened_x,label, test_size=0.25, random_state=58)\n",
    "    return x_train.T, x_test.T, y_train.T, y_test.T"
   ]
  },
  {
   "cell_type": "code",
   "execution_count": 8,
   "metadata": {},
   "outputs": [],
   "source": [
    "x_train, x_test, y_train, y_test = convert_and_split(X, Y, C)"
   ]
  },
  {
   "cell_type": "code",
   "execution_count": 9,
   "metadata": {},
   "outputs": [
    {
     "name": "stdout",
     "output_type": "stream",
     "text": [
      "<class 'numpy.ndarray'> <class 'numpy.ndarray'> <class 'numpy.ndarray'> <class 'numpy.ndarray'>\n",
      "(12288, 1546) (10, 1546) (12288, 516) (10, 516)\n",
      "float32 float32 float32 float32\n"
     ]
    }
   ],
   "source": [
    "print(type(x_train), type(y_train), type(x_test), type(y_test))\n",
    "print(x_train.shape, y_train.shape, x_test.shape, y_test.shape)\n",
    "print(x_train.dtype, y_train.dtype, x_test.dtype, y_test.dtype)"
   ]
  },
  {
   "cell_type": "code",
   "execution_count": 10,
   "metadata": {},
   "outputs": [],
   "source": [
    "def random_mini_batches(X, Y, minibatch_size = 64, seed = 0):\n",
    "    '''\n",
    "    splits the dataset (X,Y) into random mini batches\n",
    "    \n",
    "    Arguments:\n",
    "    X -- input matrix\n",
    "    Y -- output matrix\n",
    "    minibatch_size -- size of minibatches to be made (default value = 64)\n",
    "    seed -- seed value for random value generation (default value = 0) \n",
    "    \n",
    "    Returns: \n",
    "    minibatches -- a list of tuples containing minibatches (input matrix, output matrix) of length minibatch_size\n",
    "    '''\n",
    "    \n",
    "    m = X.shape[1]\n",
    "    mini_batches = []\n",
    "    np.random.seed(seed)\n",
    "    \n",
    "    permutation = list(np.random.permutation(m))\n",
    "    shuffled_x = X[:, permutation]\n",
    "    shuffled_y = Y[:, permutation]\n",
    "    \n",
    "    num_complete_minibatches = m // minibatch_size\n",
    "    \n",
    "    for n in range(0, num_complete_minibatches):\n",
    "        mini_x = shuffled_x[:, n*minibatch_size : (n+1)*minibatch_size]\n",
    "        mini_y = shuffled_y[:, n*minibatch_size : (n+1)*minibatch_size]\n",
    "        minibatch = (mini_x, mini_y)\n",
    "        mini_batches.append(minibatch)\n",
    "    \n",
    "    if m % minibatch_size != 0:\n",
    "        mini_x = shuffled_x[:, num_complete_minibatches*minibatch_size : ]\n",
    "        mini_y = shuffled_y[:, num_complete_minibatches*minibatch_size : ]\n",
    "        minibatch = (mini_x, mini_y)\n",
    "        mini_batches.append(minibatch)\n",
    "    \n",
    "    return mini_batches"
   ]
  },
  {
   "cell_type": "code",
   "execution_count": 11,
   "metadata": {},
   "outputs": [],
   "source": [
    "def create_placeholders(n_x, n_y):\n",
    "    \"\"\"\n",
    "    Creates the placeholders for the tensorflow session.\n",
    "    \n",
    "    Arguments:\n",
    "    n_x -- scalar, size of an image vector (num_px * num_px = 64 * 64 * 3 = 12288)\n",
    "    n_y -- scalar, number of classes (from 0 to 9, so -> 10)\n",
    "    \n",
    "    Returns:\n",
    "    X -- placeholder for the data input, of shape [n_x, None] and dtype \"tf.float32\"\n",
    "    Y -- placeholder for the input labels, of shape [n_y, None] and dtype \"tf.float32\"\n",
    "    \n",
    "    Using 'None' because the number of examples during test/train is different, so it makes the placeholders flexible.\n",
    "    \"\"\"\n",
    "    \n",
    "    X = tf.placeholder(tf.float32, name=None, shape = (n_x,None))\n",
    "    Y = tf.placeholder(tf.float32, name=None, shape = (n_y,None))\n",
    "    return X, Y"
   ]
  },
  {
   "cell_type": "code",
   "execution_count": 12,
   "metadata": {},
   "outputs": [],
   "source": [
    "def initialize_parameters(layer_dims, seed):\n",
    "    \"\"\"\n",
    "    Initializes parameters to build a neural network with tensorflow\n",
    "\n",
    "    Arguments:\n",
    "    layer_dims -- a list containing different number of hidden units for each layer of the model. The size of the list is\n",
    "                  the number of layers in the model\n",
    "    seed -- seed value for random value generation (default value = 0) \n",
    "    \n",
    "    Returns:\n",
    "    parameters -- a dictionary of tensors containing weight and bias matrix for all layers according to the size of their\n",
    "                  number of hidden units\n",
    "    \"\"\"\n",
    "    \n",
    "    tf.set_random_seed(seed)\n",
    "    parameters = {}\n",
    "    L = len(layer_dims) #total number of layers of the neural network\n",
    "    for l in range(1,L):\n",
    "        parameters['W' + str(l)] = tf.get_variable('W' + str(l), [layer_dims[l],layer_dims[l-1]], initializer = tf.contrib.layers.xavier_initializer(seed = seed))\n",
    "        parameters['b' + str(l)] = tf.get_variable('b' + str(l), [layer_dims[l],1], initializer = tf.zeros_initializer())\n",
    "    return parameters"
   ]
  },
  {
   "cell_type": "code",
   "execution_count": 13,
   "metadata": {},
   "outputs": [],
   "source": [
    "def forward_pass(X, parameters, activation):\n",
    "    \"\"\"\n",
    "    Implements the forward propagation for the model according to their provided activation functions (sigmoid or relu)\n",
    "    \n",
    "    Arguments:\n",
    "    X -- input dataset placeholder, of shape (input size, number of examples)\n",
    "    parameters -- a dictionary of tensors containing weight and bias matrix for all layers according to the size of their\n",
    "                  number of hidden units\n",
    "    activation -- list containing the activation functions for each layer\n",
    "    \n",
    "    Returns:\n",
    "    Z -- the output of the last LINEAR unit. The output after applying activation (A) to this last Linear unit is not returned\n",
    "         because in tensorflow, the cost is calculated with the output of Z, so the last A is of no use.\n",
    "    \"\"\"\n",
    "    \n",
    "    L = len(activation)\n",
    "    A_prev = X\n",
    "    for l in range(L):\n",
    "        W = parameters['W' + str(l+1)]\n",
    "        b = parameters['b' + str(l+1)]\n",
    "        Z = tf.add(tf.matmul(W, A_prev),b)\n",
    "        if activation[l] == 'sigmoid':\n",
    "            A = tf.sigmoid(Z)\n",
    "        elif activation[l] == 'relu':\n",
    "            A = tf.nn.relu(Z)\n",
    "        A_prev = A\n",
    "    return Z"
   ]
  },
  {
   "cell_type": "code",
   "execution_count": 14,
   "metadata": {},
   "outputs": [],
   "source": [
    "def compute_cost(Z3, Y, parameters, lambd):\n",
    "    \"\"\"\n",
    "    Computes the cost\n",
    "    \n",
    "    Arguments:\n",
    "    Z -- output of forward propagation (output of the last LINEAR unit), of shape (10, number of examples)\n",
    "    Y -- \"true\" labels vector placeholder, same shape as Z\n",
    "    parameters -- a dictionary of tensors containing weight and bias matrix for all layers according to the size of their\n",
    "                  number of hidden units\n",
    "    lambd -- regularization parameter for L2 regularization\n",
    "    \n",
    "    Returns:\n",
    "    cost - Tensor of the cost function\n",
    "    \"\"\"\n",
    "    \n",
    "    logits = tf.transpose(Z3)\n",
    "    labels = tf.transpose(Y)\n",
    "    cost = tf.reduce_mean(tf.nn.softmax_cross_entropy_with_logits_v2(logits=logits, labels=labels))\n",
    "    \n",
    "    regularization_term = 0\n",
    "    for i in range(len(parameters)//2):\n",
    "        W = parameters['W' + str(i+1)]\n",
    "        regularization_term = regularization_term + tf.nn.l2_loss(W)\n",
    "    regularization_cost = lambd * regularization_term\n",
    "    cost = cost + regularization_cost\n",
    "    return cost"
   ]
  },
  {
   "cell_type": "code",
   "execution_count": 15,
   "metadata": {},
   "outputs": [],
   "source": [
    "def model(x_train, y_train, x_test, y_test, layer_dims, activation, num_epochs = 1500,\n",
    "          learning_rate = 0.0001, minibatch_size = 32, lambd = 0.01, print_cost = True):\n",
    "    \"\"\"\n",
    "    Implements a tensorflow neural network\n",
    "    \n",
    "    Arguments:\n",
    "    x_train -- training set, of shape (input size = 12288, number of training examples = 1080)\n",
    "    y_train -- test set, of shape (output size = 6, number of training examples = 1080)\n",
    "    x_test -- training set, of shape (input size = 12288, number of training examples = 120)\n",
    "    y_test -- test set, of shape (output size = 6, number of test examples = 120)\n",
    "    layer_dims -- a list containing different number of hidden units for each layer of the model. The size of the list is\n",
    "                  the number of layers in the model\n",
    "    activation -- list containing the activation functions for each layer\n",
    "    learning_rate -- learning rate of the optimization\n",
    "    num_epochs -- number of epochs of the optimization loop\n",
    "    minibatch_size -- size of a minibatch\n",
    "    lambd -- regularization parameter for L2 regularization\n",
    "    print_cost -- True to print the cost every 100 epochs\n",
    "    \n",
    "    Returns:\n",
    "    parameters -- parameters learnt by the model. They can then be used to predict.\n",
    "    \"\"\"\n",
    "    \n",
    "    ops.reset_default_graph()                         # to be able to rerun the model without overwriting tf variables\n",
    "    tf.set_random_seed(1)                             # to keep consistent results\n",
    "    seed = 3                                          # to keep consistent results\n",
    "    (n_x, m) = x_train.shape                          # (n_x: input size, m : number of examples in the train set)\n",
    "    n_y = y_train.shape[0]                            # n_y : output size\n",
    "    layer_dims.insert(0,n_x)\n",
    "    costs = []                                        \n",
    "    \n",
    "    # Create Placeholders\n",
    "    X, Y = create_placeholders(n_x,n_y)\n",
    "    # Initialize parameters\n",
    "    parameters = initialize_parameters(layer_dims, 1)\n",
    "    # Forward propagation\n",
    "    Z = forward_pass(X, parameters, activation)\n",
    "    # Cost function\n",
    "    cost = compute_cost(Z, Y, parameters, lambd)\n",
    "    # Backpropagation\n",
    "    optimizer = tf.train.AdamOptimizer(learning_rate = learning_rate).minimize(cost)   # using Adam optimizer\n",
    "\n",
    "    init = tf.global_variables_initializer()\n",
    "    \n",
    "    with tf.Session() as sess:\n",
    "        \n",
    "        sess.run(init)\n",
    "        \n",
    "        # Training\n",
    "        for epoch in range(num_epochs):\n",
    "            \n",
    "            epoch_cost = 0.     \n",
    "            num_minibatches = int(m / minibatch_size)\n",
    "            seed = seed + 1\n",
    "            minibatches = random_mini_batches(x_train, y_train, minibatch_size, seed)\n",
    "\n",
    "            # learning rate decay not working correctly, will update later.\n",
    "            \n",
    "                #if epoch % 100 == 0:\n",
    "                #    learning_rate = learning_rate - 0.0001    \n",
    "            \n",
    "            for minibatch in minibatches:\n",
    "\n",
    "                (minibatch_X, minibatch_Y) = minibatch\n",
    "                _ , minibatch_cost = sess.run([optimizer, cost], feed_dict = {X : minibatch_X, Y : minibatch_Y})\n",
    "                \n",
    "                epoch_cost = epoch_cost + minibatch_cost / minibatch_size\n",
    "\n",
    "            if print_cost == True and epoch % 100 == 0:\n",
    "                print (\"Cost after epoch %i: %f\" % (epoch, epoch_cost))\n",
    "            if print_cost == True and epoch % 5 == 0:\n",
    "                costs.append(epoch_cost)\n",
    "                \n",
    "        # plotting the cost\n",
    "        plt.plot(np.squeeze(costs))\n",
    "        plt.ylabel('cost')\n",
    "        plt.xlabel('iterations (per fives)')\n",
    "        plt.title(\"Learning rate =\" + str(learning_rate))\n",
    "        plt.show()\n",
    "\n",
    "        # saving trained parameters in a variable to use in prediction\n",
    "        parameters = sess.run(parameters)\n",
    "        print (\"Parameters have been trained!\")\n",
    "\n",
    "        # Calculate the correct predictions and accuracy\n",
    "        correct_prediction = tf.equal(tf.argmax(Z), tf.argmax(Y))\n",
    "        accuracy = tf.reduce_mean(tf.cast(correct_prediction, \"float\"))\n",
    "\n",
    "        print (\"Train Accuracy:\", accuracy.eval({X: x_train, Y: y_train}))\n",
    "        print (\"Test Accuracy:\", accuracy.eval({X: x_test, Y: y_test}))\n",
    "        \n",
    "        return parameters"
   ]
  },
  {
   "cell_type": "code",
   "execution_count": 16,
   "metadata": {
    "scrolled": false
   },
   "outputs": [
    {
     "name": "stdout",
     "output_type": "stream",
     "text": [
      "WARNING:tensorflow:From C:\\Users\\Admin\\Anaconda3\\lib\\site-packages\\tensorflow\\python\\framework\\op_def_library.py:263: colocate_with (from tensorflow.python.framework.ops) is deprecated and will be removed in a future version.\n",
      "Instructions for updating:\n",
      "Colocations handled automatically by placer.\n",
      "Cost after epoch 0: 4.098582\n",
      "Cost after epoch 100: 1.954266\n",
      "Cost after epoch 200: 1.586852\n",
      "Cost after epoch 300: 1.334112\n",
      "Cost after epoch 400: 1.180983\n",
      "Cost after epoch 500: 1.069922\n",
      "Cost after epoch 600: 0.984190\n",
      "Cost after epoch 700: 0.938523\n",
      "Cost after epoch 800: 0.891954\n",
      "Cost after epoch 900: 0.850168\n"
     ]
    },
    {
     "data": {
      "image/png": "[encoded data removed]",
      "text/plain": [
       "<Figure size 432x288 with 1 Axes>"
      ]
     },
     "metadata": {},
     "output_type": "display_data"
    },
    {
     "name": "stdout",
     "output_type": "stream",
     "text": [
      "Parameters have been trained!\n",
      "Train Accuracy: 0.9592497\n",
      "Test Accuracy: 0.79651165\n"
     ]
    }
   ],
   "source": [
    "# HYPERPARAMETERS\n",
    "layer_dims = [25,15,10] # number of units in the hidden layers and the output layer\n",
    "activation = ['relu','relu','relu'] # activation\n",
    "num_epochs = 1000\n",
    "\n",
    "# IMPLEMENTING THE MODEL\n",
    "parameters = model(x_train, y_train, x_test, y_test, layer_dims, activation, num_epochs)"
   ]
  },
  {
   "cell_type": "code",
   "execution_count": 17,
   "metadata": {},
   "outputs": [],
   "source": [
    "# The model is overfitting currently. I used L2 regularization to remove overfitting to a certain extant.\n",
    "# The test set accuracy with no regularization (lambd = 0) was 0.75.\n",
    "# The test set accuracy with regularization (lambd = 0.001 and 0.01) was almost 0.796.\n",
    "# Further overfitting needs to be reduced, will update later."
   ]
  }
 ],
 "metadata": {
  "kernelspec": {
   "display_name": "Python 3",
   "language": "python",
   "name": "python3"
  },
  "language_info": {
   "codemirror_mode": {
    "name": "ipython",
    "version": 3
   },
   "file_extension": ".py",
   "mimetype": "text/x-python",
   "name": "python",
   "nbconvert_exporter": "python",
   "pygments_lexer": "ipython3",
   "version": "3.6.5"
  }
 },
 "nbformat": 4,
 "nbformat_minor": 2
}
